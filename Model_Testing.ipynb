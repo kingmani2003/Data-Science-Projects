{
 "cells": [
  {
   "cell_type": "markdown",
   "id": "8e7637ef-fc11-42cd-9041-f83e46ee926d",
   "metadata": {},
   "source": [
    "## Using The Model"
   ]
  },
  {
   "cell_type": "code",
   "execution_count": 16,
   "id": "3c4e5ef3-d7df-41ab-9510-7139a6859452",
   "metadata": {},
   "outputs": [
    {
     "data": {
      "text/plain": [
       "array([21.9])"
      ]
     },
     "execution_count": 16,
     "metadata": {},
     "output_type": "execute_result"
    }
   ],
   "source": [
    "from joblib import dump,load\n",
    "import numpy as np\n",
    "model= load('Dragon.joblib')\n",
    "feature=np.array([[-0.43942006,  4.12628155, -1.12165014, -0.27288841, -1.42262747,\n",
    "       -0.23979304, -1.31238772,  2.61111401, -1.0016859 , -0.5778192 ,\n",
    "       -0.97491834,  0.41164221, -0.86091034]])\n",
    "model.predict(feature)"
   ]
  },
  {
   "cell_type": "code",
   "execution_count": null,
   "id": "e4675307-c574-46fd-8a5b-3fa88dbc2973",
   "metadata": {},
   "outputs": [],
   "source": []
  }
 ],
 "metadata": {
  "kernelspec": {
   "display_name": "Python 3 (ipykernel)",
   "language": "python",
   "name": "python3"
  },
  "language_info": {
   "codemirror_mode": {
    "name": "ipython",
    "version": 3
   },
   "file_extension": ".py",
   "mimetype": "text/x-python",
   "name": "python",
   "nbconvert_exporter": "python",
   "pygments_lexer": "ipython3",
   "version": "3.11.1"
  }
 },
 "nbformat": 4,
 "nbformat_minor": 5
}
